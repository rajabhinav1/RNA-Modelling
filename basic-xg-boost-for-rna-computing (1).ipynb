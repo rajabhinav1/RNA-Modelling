{
 "cells": [
  {
   "cell_type": "code",
   "execution_count": 1,
   "id": "369770ec",
   "metadata": {
    "execution": {
     "iopub.execute_input": "2023-11-29T17:59:22.648894Z",
     "iopub.status.busy": "2023-11-29T17:59:22.648477Z",
     "iopub.status.idle": "2023-11-29T17:59:35.297461Z",
     "shell.execute_reply": "2023-11-29T17:59:35.296181Z"
    },
    "papermill": {
     "duration": 12.655524,
     "end_time": "2023-11-29T17:59:35.299688",
     "exception": false,
     "start_time": "2023-11-29T17:59:22.644164",
     "status": "completed"
    },
    "tags": []
   },
   "outputs": [
    {
     "name": "stdout",
     "output_type": "stream",
     "text": [
      "Requirement already satisfied: xgboost in /opt/conda/lib/python3.10/site-packages (2.0.1)\r\n",
      "Requirement already satisfied: numpy in /opt/conda/lib/python3.10/site-packages (from xgboost) (1.24.3)\r\n",
      "Requirement already satisfied: scipy in /opt/conda/lib/python3.10/site-packages (from xgboost) (1.11.3)\r\n",
      "Note: you may need to restart the kernel to use updated packages.\n"
     ]
    }
   ],
   "source": [
    "pip install xgboost"
   ]
  },
  {
   "cell_type": "code",
   "execution_count": 2,
   "id": "82da918a",
   "metadata": {
    "execution": {
     "iopub.execute_input": "2023-11-29T17:59:35.307345Z",
     "iopub.status.busy": "2023-11-29T17:59:35.306533Z",
     "iopub.status.idle": "2023-11-29T18:03:08.589966Z",
     "shell.execute_reply": "2023-11-29T18:03:08.588832Z"
    },
    "papermill": {
     "duration": 213.289475,
     "end_time": "2023-11-29T18:03:08.592075",
     "exception": false,
     "start_time": "2023-11-29T17:59:35.302600",
     "status": "completed"
    },
    "tags": []
   },
   "outputs": [
    {
     "name": "stderr",
     "output_type": "stream",
     "text": [
      "/opt/conda/lib/python3.10/site-packages/scipy/__init__.py:146: UserWarning: A NumPy version >=1.16.5 and <1.23.0 is required for this version of SciPy (detected version 1.24.3\n",
      "  warnings.warn(f\"A NumPy version >={np_minversion} and <{np_maxversion}\"\n",
      "/opt/conda/lib/python3.10/site-packages/sklearn/utils/validation.py:605: FutureWarning: is_sparse is deprecated and will be removed in a future version. Check `isinstance(dtype, pd.SparseDtype)` instead.\n",
      "  if is_sparse(pd_dtype):\n",
      "/opt/conda/lib/python3.10/site-packages/sklearn/utils/validation.py:614: FutureWarning: is_sparse is deprecated and will be removed in a future version. Check `isinstance(dtype, pd.SparseDtype)` instead.\n",
      "  if is_sparse(pd_dtype) or not is_extension_array_dtype(pd_dtype):\n",
      "/opt/conda/lib/python3.10/site-packages/sklearn/utils/validation.py:767: FutureWarning: is_sparse is deprecated and will be removed in a future version. Check `isinstance(dtype, pd.SparseDtype)` instead.\n",
      "  if not hasattr(array, \"sparse\") and array.dtypes.apply(is_sparse).any():\n",
      "/opt/conda/lib/python3.10/site-packages/sklearn/utils/validation.py:605: FutureWarning: is_sparse is deprecated and will be removed in a future version. Check `isinstance(dtype, pd.SparseDtype)` instead.\n",
      "  if is_sparse(pd_dtype):\n",
      "/opt/conda/lib/python3.10/site-packages/sklearn/utils/validation.py:614: FutureWarning: is_sparse is deprecated and will be removed in a future version. Check `isinstance(dtype, pd.SparseDtype)` instead.\n",
      "  if is_sparse(pd_dtype) or not is_extension_array_dtype(pd_dtype):\n"
     ]
    },
    {
     "name": "stdout",
     "output_type": "stream",
     "text": [
      "MAE (XGBoost): 0.11930838873780658\n"
     ]
    }
   ],
   "source": [
    "import pandas as pd\n",
    "from sklearn.model_selection import train_test_split\n",
    "from sklearn.preprocessing import LabelEncoder\n",
    "import xgboost as xgb\n",
    "from sklearn.metrics import mean_absolute_error\n",
    "\n",
    "# Load data\n",
    "train_data = pd.read_csv('/kaggle/input/stanford-ribonanza-rna-folding/train_data_QUICK_START.csv')\n",
    "\n",
    "# Basic preprocessing\n",
    "# Encode 'experiment_type' as it is categorical\n",
    "encoder = LabelEncoder()\n",
    "train_data['experiment_type'] = encoder.fit_transform(train_data['experiment_type'])\n",
    "\n",
    "# Feature Engineering for RNA sequences\n",
    "# Replace this placeholder with the actual encoding for RNA sequences\n",
    "# For example, you can use one-hot encoding or other advanced techniques\n",
    "# Here, we'll use the length of the sequence as a simple placeholder\n",
    "train_data['sequence_encoded'] = train_data['sequence'].apply(lambda x: len(x))\n",
    "\n",
    "# Select features and target\n",
    "features = train_data[['sequence_encoded', 'experiment_type']]\n",
    "targets = train_data.filter(regex='^reactivity_')\n",
    "\n",
    "# Split data into training and validation sets\n",
    "X_train, X_val, y_train, y_val = train_test_split(features, targets, test_size=0.2, random_state=42)\n",
    "\n",
    "if y_train.isnull().values.any():\n",
    "    y_train.fillna(0, inplace=True)  # You can replace NaN values with 0 or use another appropriate imputation strategy\n",
    "\n",
    "if y_val.isnull().values.any():\n",
    "    y_val.fillna(0, inplace=True)  # You can replace NaN values with 0 or use another appropriate imputation strategy\n",
    "\n",
    "# Initialize the XGBoost Regressor\n",
    "xgb_regressor = xgb.XGBRegressor(objective='reg:squarederror', random_state=42)\n",
    "\n",
    "# Train the model on the training data\n",
    "xgb_regressor.fit(X_train, y_train)\n",
    "\n",
    "# Predict on the validation set\n",
    "y_val_pred_xgb = xgb_regressor.predict(X_val)\n",
    "\n",
    "# Calculate Mean Absolute Error (MAE) for XGBoost\n",
    "mae_xgb = mean_absolute_error(y_val, y_val_pred_xgb)\n",
    "print(f\"MAE (XGBoost): {mae_xgb}\")\n",
    "\n",
    "# Now you can proceed with testing on the test data, similar to the previous example\n"
   ]
  },
  {
   "cell_type": "code",
   "execution_count": 3,
   "id": "40d8cb0c",
   "metadata": {
    "execution": {
     "iopub.execute_input": "2023-11-29T18:03:08.599105Z",
     "iopub.status.busy": "2023-11-29T18:03:08.598786Z",
     "iopub.status.idle": "2023-11-29T18:03:08.602807Z",
     "shell.execute_reply": "2023-11-29T18:03:08.602002Z"
    },
    "papermill": {
     "duration": 0.00973,
     "end_time": "2023-11-29T18:03:08.604728",
     "exception": false,
     "start_time": "2023-11-29T18:03:08.594998",
     "status": "completed"
    },
    "tags": []
   },
   "outputs": [],
   "source": [
    "import numpy as np"
   ]
  },
  {
   "cell_type": "code",
   "execution_count": 4,
   "id": "4347788b",
   "metadata": {
    "execution": {
     "iopub.execute_input": "2023-11-29T18:03:08.611459Z",
     "iopub.status.busy": "2023-11-29T18:03:08.611156Z",
     "iopub.status.idle": "2023-11-29T18:24:31.829593Z",
     "shell.execute_reply": "2023-11-29T18:24:31.828722Z"
    },
    "papermill": {
     "duration": 1283.224621,
     "end_time": "2023-11-29T18:24:31.832180",
     "exception": false,
     "start_time": "2023-11-29T18:03:08.607559",
     "status": "completed"
    },
    "tags": []
   },
   "outputs": [],
   "source": [
    "# Calculate mean/median predictions from validation set\n",
    "mean_val_predictions = y_val_pred_xgb.mean(axis=0)\n",
    "median_val_predictions = np.median(y_val_pred_xgb, axis=0)\n",
    "\n",
    "# Use these mean/median values to fill in your test data\n",
    "submission_data = pd.read_csv('/kaggle/input/stanford-ribonanza-rna-folding/sample_submission.csv')\n",
    "for i, column in enumerate(['reactivity_DMS_MaP', 'reactivity_2A3_MaP']):\n",
    "    submission_data[column] = mean_val_predictions[i]  # or median_val_predictions[i]\n",
    "\n",
    "# Save the filled submission file\n",
    "submission_data.to_csv('submission_with_mean_predictions.csv', index=False)\n",
    "\n",
    "\n",
    "\n"
   ]
  },
  {
   "cell_type": "code",
   "execution_count": 5,
   "id": "e8728529",
   "metadata": {
    "execution": {
     "iopub.execute_input": "2023-11-29T18:24:31.840028Z",
     "iopub.status.busy": "2023-11-29T18:24:31.839659Z",
     "iopub.status.idle": "2023-11-29T18:26:11.342818Z",
     "shell.execute_reply": "2023-11-29T18:26:11.341807Z"
    },
    "papermill": {
     "duration": 99.512226,
     "end_time": "2023-11-29T18:26:11.347828",
     "exception": false,
     "start_time": "2023-11-29T18:24:31.835602",
     "status": "completed"
    },
    "tags": []
   },
   "outputs": [
    {
     "name": "stdout",
     "output_type": "stream",
     "text": [
      "Number of rows in training data: 335616\n",
      "Number of columns in training data: 417\n",
      "Number of rows in training data: 269796671\n",
      "Number of columns in training data: 3\n"
     ]
    }
   ],
   "source": [
    "# Assuming 'train_data' is your DataFrame containing the training data\n",
    "print(f\"Number of rows in training data: {train_data.shape[0]}\")\n",
    "print(f\"Number of columns in training data: {train_data.shape[1]}\")\n",
    "\n",
    "train_data1 = pd.read_csv('/kaggle/input/stanford-ribonanza-rna-folding/sample_submission.csv')\n",
    "# Assuming 'train_data' is your DataFrame containing the training data\n",
    "print(f\"Number of rows in training data: {train_data1.shape[0]}\")\n",
    "print(f\"Number of columns in training data: {train_data1.shape[1]}\")\n",
    "\n"
   ]
  }
 ],
 "metadata": {
  "kaggle": {
   "accelerator": "gpu",
   "dataSources": [
    {
     "databundleVersionId": 6923401,
     "sourceId": 51294,
     "sourceType": "competition"
    }
   ],
   "dockerImageVersionId": 30589,
   "isGpuEnabled": true,
   "isInternetEnabled": true,
   "language": "python",
   "sourceType": "notebook"
  },
  "kernelspec": {
   "display_name": "Python 3",
   "language": "python",
   "name": "python3"
  },
  "language_info": {
   "codemirror_mode": {
    "name": "ipython",
    "version": 3
   },
   "file_extension": ".py",
   "mimetype": "text/x-python",
   "name": "python",
   "nbconvert_exporter": "python",
   "pygments_lexer": "ipython3",
   "version": "3.10.12"
  },
  "papermill": {
   "default_parameters": {},
   "duration": 1612.758492,
   "end_time": "2023-11-29T18:26:12.072884",
   "environment_variables": {},
   "exception": null,
   "input_path": "__notebook__.ipynb",
   "output_path": "__notebook__.ipynb",
   "parameters": {},
   "start_time": "2023-11-29T17:59:19.314392",
   "version": "2.4.0"
  }
 },
 "nbformat": 4,
 "nbformat_minor": 5
}
